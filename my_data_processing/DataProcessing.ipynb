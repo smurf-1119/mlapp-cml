{
 "cells": [
  {
   "cell_type": "code",
   "execution_count": 1,
   "metadata": {
    "collapsed": true
   },
   "outputs": [],
   "source": [
    "import pandas as pd\n",
    "import numpy as np"
   ]
  },
  {
   "cell_type": "markdown",
   "metadata": {
    "collapsed": false,
    "pycharm": {
     "name": "#%% md\n"
    }
   },
   "source": [
    "## 导入数据"
   ]
  },
  {
   "cell_type": "code",
   "execution_count": 2,
   "metadata": {
    "collapsed": false,
    "pycharm": {
     "name": "#%%\n"
    }
   },
   "outputs": [],
   "source": [
    "Data_File = \"./data/ohsumed-file-abstract-category.csv\"\n",
    "df = pd.read_csv(Data_File)"
   ]
  },
  {
   "cell_type": "code",
   "execution_count": 3,
   "metadata": {
    "collapsed": false,
    "pycharm": {
     "name": "#%%\n"
    }
   },
   "outputs": [
    {
     "data": {
      "text/html": [
       "<div>\n",
       "<style scoped>\n",
       "    .dataframe tbody tr th:only-of-type {\n",
       "        vertical-align: middle;\n",
       "    }\n",
       "\n",
       "    .dataframe tbody tr th {\n",
       "        vertical-align: top;\n",
       "    }\n",
       "\n",
       "    .dataframe thead th {\n",
       "        text-align: right;\n",
       "    }\n",
       "</style>\n",
       "<table border=\"1\" class=\"dataframe\">\n",
       "  <thead>\n",
       "    <tr style=\"text-align: right;\">\n",
       "      <th></th>\n",
       "      <th>file_name</th>\n",
       "      <th>title_abstract</th>\n",
       "      <th>C08</th>\n",
       "      <th>C06</th>\n",
       "      <th>C01</th>\n",
       "      <th>C07</th>\n",
       "      <th>C09</th>\n",
       "      <th>C14</th>\n",
       "      <th>C13</th>\n",
       "      <th>C22</th>\n",
       "      <th>...</th>\n",
       "      <th>C04</th>\n",
       "      <th>C03</th>\n",
       "      <th>C10</th>\n",
       "      <th>C17</th>\n",
       "      <th>C21</th>\n",
       "      <th>C19</th>\n",
       "      <th>C18</th>\n",
       "      <th>C20</th>\n",
       "      <th>C16</th>\n",
       "      <th>C11</th>\n",
       "    </tr>\n",
       "  </thead>\n",
       "  <tbody>\n",
       "    <tr>\n",
       "      <th>0</th>\n",
       "      <td>42408</td>\n",
       "      <td>Evaluation of 99Tcm Technegas ventilation scin...</td>\n",
       "      <td>1</td>\n",
       "      <td>0</td>\n",
       "      <td>0</td>\n",
       "      <td>0</td>\n",
       "      <td>0</td>\n",
       "      <td>0</td>\n",
       "      <td>0</td>\n",
       "      <td>0</td>\n",
       "      <td>...</td>\n",
       "      <td>0</td>\n",
       "      <td>0</td>\n",
       "      <td>0</td>\n",
       "      <td>0</td>\n",
       "      <td>0</td>\n",
       "      <td>0</td>\n",
       "      <td>0</td>\n",
       "      <td>0</td>\n",
       "      <td>0</td>\n",
       "      <td>0</td>\n",
       "    </tr>\n",
       "    <tr>\n",
       "      <th>1</th>\n",
       "      <td>45847</td>\n",
       "      <td>Cardiorespiratory effects of pressure controll...</td>\n",
       "      <td>1</td>\n",
       "      <td>0</td>\n",
       "      <td>0</td>\n",
       "      <td>0</td>\n",
       "      <td>0</td>\n",
       "      <td>0</td>\n",
       "      <td>0</td>\n",
       "      <td>0</td>\n",
       "      <td>...</td>\n",
       "      <td>0</td>\n",
       "      <td>0</td>\n",
       "      <td>0</td>\n",
       "      <td>0</td>\n",
       "      <td>0</td>\n",
       "      <td>0</td>\n",
       "      <td>0</td>\n",
       "      <td>0</td>\n",
       "      <td>0</td>\n",
       "      <td>0</td>\n",
       "    </tr>\n",
       "    <tr>\n",
       "      <th>2</th>\n",
       "      <td>43982</td>\n",
       "      <td>Lung function in school-age children who had m...</td>\n",
       "      <td>1</td>\n",
       "      <td>0</td>\n",
       "      <td>0</td>\n",
       "      <td>0</td>\n",
       "      <td>0</td>\n",
       "      <td>0</td>\n",
       "      <td>0</td>\n",
       "      <td>0</td>\n",
       "      <td>...</td>\n",
       "      <td>0</td>\n",
       "      <td>0</td>\n",
       "      <td>0</td>\n",
       "      <td>0</td>\n",
       "      <td>0</td>\n",
       "      <td>0</td>\n",
       "      <td>0</td>\n",
       "      <td>1</td>\n",
       "      <td>0</td>\n",
       "      <td>0</td>\n",
       "    </tr>\n",
       "    <tr>\n",
       "      <th>3</th>\n",
       "      <td>42850</td>\n",
       "      <td>Comparison of expandable endotracheal stents i...</td>\n",
       "      <td>1</td>\n",
       "      <td>0</td>\n",
       "      <td>0</td>\n",
       "      <td>0</td>\n",
       "      <td>0</td>\n",
       "      <td>0</td>\n",
       "      <td>0</td>\n",
       "      <td>1</td>\n",
       "      <td>...</td>\n",
       "      <td>0</td>\n",
       "      <td>0</td>\n",
       "      <td>0</td>\n",
       "      <td>0</td>\n",
       "      <td>1</td>\n",
       "      <td>0</td>\n",
       "      <td>0</td>\n",
       "      <td>0</td>\n",
       "      <td>0</td>\n",
       "      <td>0</td>\n",
       "    </tr>\n",
       "    <tr>\n",
       "      <th>4</th>\n",
       "      <td>8272</td>\n",
       "      <td>Improved outcome at 28 days of age for very lo...</td>\n",
       "      <td>1</td>\n",
       "      <td>0</td>\n",
       "      <td>0</td>\n",
       "      <td>0</td>\n",
       "      <td>0</td>\n",
       "      <td>0</td>\n",
       "      <td>0</td>\n",
       "      <td>0</td>\n",
       "      <td>...</td>\n",
       "      <td>0</td>\n",
       "      <td>0</td>\n",
       "      <td>0</td>\n",
       "      <td>0</td>\n",
       "      <td>0</td>\n",
       "      <td>0</td>\n",
       "      <td>0</td>\n",
       "      <td>0</td>\n",
       "      <td>1</td>\n",
       "      <td>0</td>\n",
       "    </tr>\n",
       "  </tbody>\n",
       "</table>\n",
       "<p>5 rows × 25 columns</p>\n",
       "</div>"
      ],
      "text/plain": [
       "   file_name                                     title_abstract  C08  C06  \\\n",
       "0      42408  Evaluation of 99Tcm Technegas ventilation scin...    1    0   \n",
       "1      45847  Cardiorespiratory effects of pressure controll...    1    0   \n",
       "2      43982  Lung function in school-age children who had m...    1    0   \n",
       "3      42850  Comparison of expandable endotracheal stents i...    1    0   \n",
       "4       8272  Improved outcome at 28 days of age for very lo...    1    0   \n",
       "\n",
       "   C01  C07  C09  C14  C13  C22  ...  C04  C03  C10  C17  C21  C19  C18  C20  \\\n",
       "0    0    0    0    0    0    0  ...    0    0    0    0    0    0    0    0   \n",
       "1    0    0    0    0    0    0  ...    0    0    0    0    0    0    0    0   \n",
       "2    0    0    0    0    0    0  ...    0    0    0    0    0    0    0    1   \n",
       "3    0    0    0    0    0    1  ...    0    0    0    0    1    0    0    0   \n",
       "4    0    0    0    0    0    0  ...    0    0    0    0    0    0    0    0   \n",
       "\n",
       "   C16  C11  \n",
       "0    0    0  \n",
       "1    0    0  \n",
       "2    0    0  \n",
       "3    0    0  \n",
       "4    1    0  \n",
       "\n",
       "[5 rows x 25 columns]"
      ]
     },
     "execution_count": 3,
     "metadata": {},
     "output_type": "execute_result"
    }
   ],
   "source": [
    "df.head()"
   ]
  },
  {
   "cell_type": "markdown",
   "metadata": {
    "collapsed": false,
    "pycharm": {
     "name": "#%% md\n"
    }
   },
   "source": [
    "### 对category进行求和"
   ]
  },
  {
   "cell_type": "code",
   "execution_count": 4,
   "metadata": {
    "collapsed": false,
    "pycharm": {
     "name": "#%%\n"
    }
   },
   "outputs": [],
   "source": [
    "columns = df.columns"
   ]
  },
  {
   "cell_type": "code",
   "execution_count": 5,
   "metadata": {
    "collapsed": false,
    "pycharm": {
     "name": "#%%\n"
    }
   },
   "outputs": [
    {
     "name": "stdout",
     "output_type": "stream",
     "text": [
      "<class 'pandas.core.frame.DataFrame'>\n",
      "RangeIndex: 34389 entries, 0 to 34388\n",
      "Data columns (total 25 columns):\n",
      " #   Column          Non-Null Count  Dtype \n",
      "---  ------          --------------  ----- \n",
      " 0   file_name       34389 non-null  int64 \n",
      " 1   title_abstract  34389 non-null  object\n",
      " 2   C08             34389 non-null  int64 \n",
      " 3   C06             34389 non-null  int64 \n",
      " 4   C01             34389 non-null  int64 \n",
      " 5   C07             34389 non-null  int64 \n",
      " 6   C09             34389 non-null  int64 \n",
      " 7   C14             34389 non-null  int64 \n",
      " 8   C13             34389 non-null  int64 \n",
      " 9   C22             34389 non-null  int64 \n",
      " 10  C23             34389 non-null  int64 \n",
      " 11  C12             34389 non-null  int64 \n",
      " 12  C15             34389 non-null  int64 \n",
      " 13  C02             34389 non-null  int64 \n",
      " 14  C05             34389 non-null  int64 \n",
      " 15  C04             34389 non-null  int64 \n",
      " 16  C03             34389 non-null  int64 \n",
      " 17  C10             34389 non-null  int64 \n",
      " 18  C17             34389 non-null  int64 \n",
      " 19  C21             34389 non-null  int64 \n",
      " 20  C19             34389 non-null  int64 \n",
      " 21  C18             34389 non-null  int64 \n",
      " 22  C20             34389 non-null  int64 \n",
      " 23  C16             34389 non-null  int64 \n",
      " 24  C11             34389 non-null  int64 \n",
      "dtypes: int64(24), object(1)\n",
      "memory usage: 6.6+ MB\n"
     ]
    }
   ],
   "source": [
    "for column in columns[2:]:\n",
    "    df[column] = df[column].apply(int)\n",
    "df.info()"
   ]
  },
  {
   "cell_type": "code",
   "execution_count": 6,
   "metadata": {
    "collapsed": false,
    "pycharm": {
     "name": "#%%\n"
    }
   },
   "outputs": [
    {
     "name": "stdout",
     "output_type": "stream",
     "text": [
      "{'C08': 2589, 'C06': 2989, 'C01': 2540, 'C07': 526, 'C09': 715, 'C14': 6102, 'C13': 1623, 'C22': 506, 'C23': 9611, 'C12': 2518, 'C15': 1277, 'C02': 1171, 'C05': 1678, 'C04': 6327, 'C03': 427, 'C10': 3851, 'C17': 1617, 'C21': 2933, 'C19': 865, 'C18': 1919, 'C20': 3116, 'C16': 1086, 'C11': 998}\n"
     ]
    }
   ],
   "source": [
    "dict = {}\n",
    "for column in columns[2:]:\n",
    "    dict[column] = df[column].sum()\n",
    "print(dict)\n",
    "# df = df.sort_values('column_sum')\n",
    "# df.head()\n",
    "dict = { k:v for k,v in sorted(dict.items(),key=lambda item:item[1],reverse=True)}"
   ]
  },
  {
   "cell_type": "code",
   "execution_count": 7,
   "metadata": {
    "collapsed": false,
    "pycharm": {
     "name": "#%%\n"
    }
   },
   "outputs": [
    {
     "name": "stdout",
     "output_type": "stream",
     "text": [
      "['title_abstract', 'C23', 'C04', 'C14', 'C10']\n"
     ]
    }
   ],
   "source": [
    "save_column = [columns[1]]+list(dict.keys())[:4]\n",
    "print(save_column)"
   ]
  },
  {
   "cell_type": "code",
   "execution_count": 24,
   "metadata": {
    "collapsed": false,
    "pycharm": {
     "name": "#%%\n"
    }
   },
   "outputs": [
    {
     "data": {
      "text/html": [
       "<div>\n",
       "<style scoped>\n",
       "    .dataframe tbody tr th:only-of-type {\n",
       "        vertical-align: middle;\n",
       "    }\n",
       "\n",
       "    .dataframe tbody tr th {\n",
       "        vertical-align: top;\n",
       "    }\n",
       "\n",
       "    .dataframe thead th {\n",
       "        text-align: right;\n",
       "    }\n",
       "</style>\n",
       "<table border=\"1\" class=\"dataframe\">\n",
       "  <thead>\n",
       "    <tr style=\"text-align: right;\">\n",
       "      <th></th>\n",
       "      <th>title_abstract</th>\n",
       "      <th>C23</th>\n",
       "      <th>C04</th>\n",
       "      <th>C14</th>\n",
       "      <th>C10</th>\n",
       "    </tr>\n",
       "  </thead>\n",
       "  <tbody>\n",
       "    <tr>\n",
       "      <th>2</th>\n",
       "      <td>Lung function in school-age children who had m...</td>\n",
       "      <td>1</td>\n",
       "      <td>0</td>\n",
       "      <td>0</td>\n",
       "      <td>0</td>\n",
       "    </tr>\n",
       "    <tr>\n",
       "      <th>5</th>\n",
       "      <td>Pulmonary aspiration during emergency endoscop...</td>\n",
       "      <td>1</td>\n",
       "      <td>0</td>\n",
       "      <td>0</td>\n",
       "      <td>0</td>\n",
       "    </tr>\n",
       "    <tr>\n",
       "      <th>7</th>\n",
       "      <td>In vitro evaluation of bleomycin-induced cell ...</td>\n",
       "      <td>0</td>\n",
       "      <td>1</td>\n",
       "      <td>0</td>\n",
       "      <td>0</td>\n",
       "    </tr>\n",
       "    <tr>\n",
       "      <th>8</th>\n",
       "      <td>MRI of the paranasal sinuses: incidental abnor...</td>\n",
       "      <td>0</td>\n",
       "      <td>1</td>\n",
       "      <td>0</td>\n",
       "      <td>0</td>\n",
       "    </tr>\n",
       "    <tr>\n",
       "      <th>10</th>\n",
       "      <td>The causes of hospital-treated acute lower res...</td>\n",
       "      <td>1</td>\n",
       "      <td>0</td>\n",
       "      <td>0</td>\n",
       "      <td>0</td>\n",
       "    </tr>\n",
       "  </tbody>\n",
       "</table>\n",
       "</div>"
      ],
      "text/plain": [
       "                                       title_abstract  C23  C04  C14  C10\n",
       "2   Lung function in school-age children who had m...    1    0    0    0\n",
       "5   Pulmonary aspiration during emergency endoscop...    1    0    0    0\n",
       "7   In vitro evaluation of bleomycin-induced cell ...    0    1    0    0\n",
       "8   MRI of the paranasal sinuses: incidental abnor...    0    1    0    0\n",
       "10  The causes of hospital-treated acute lower res...    1    0    0    0"
      ]
     },
     "execution_count": 24,
     "metadata": {},
     "output_type": "execute_result"
    }
   ],
   "source": [
    "# random_number = np.random.randint(0,34389,size=[1000,]).tolist()\n",
    "# print(random_number)\n",
    "\n",
    "new_df = df[save_column]\n",
    "count = new_df.iloc[:,1:].sum(axis=1)\n",
    "row_list = []\n",
    "for key,value in count.items():\n",
    "    if len(row_list) >= 2000:\n",
    "        break\n",
    "    if value > 0:\n",
    "        row_list.append(key)\n",
    "\n",
    "new_df = new_df.loc[row_list,save_column]\n",
    "# count.head()\n",
    "new_df.head()"
   ]
  },
  {
   "cell_type": "code",
   "execution_count": 25,
   "metadata": {
    "collapsed": false,
    "pycharm": {
     "name": "#%%\n"
    }
   },
   "outputs": [
    {
     "name": "stdout",
     "output_type": "stream",
     "text": [
      "Finish\n"
     ]
    }
   ],
   "source": [
    "new_df.to_csv('./data/new_data.csv',index=False)\n",
    "print('Finish')"
   ]
  }
 ],
 "metadata": {
  "kernelspec": {
   "display_name": "Python 3",
   "language": "python",
   "name": "python3"
  },
  "language_info": {
   "codemirror_mode": {
    "name": "ipython",
    "version": 3
   },
   "file_extension": ".py",
   "mimetype": "text/x-python",
   "name": "python",
   "nbconvert_exporter": "python",
   "pygments_lexer": "ipython3",
   "version": "3.8.12"
  }
 },
 "nbformat": 4,
 "nbformat_minor": 0
}
